{
  "nbformat": 4,
  "nbformat_minor": 0,
  "metadata": {
    "colab": {
      "private_outputs": true,
      "provenance": [],
      "authorship_tag": "ABX9TyOJIwV7dmEFn5tYCqC6jIP5",
      "include_colab_link": true
    },
    "kernelspec": {
      "name": "python3",
      "display_name": "Python 3"
    },
    "language_info": {
      "name": "python"
    }
  },
  "cells": [
    {
      "cell_type": "markdown",
      "metadata": {
        "id": "view-in-github",
        "colab_type": "text"
      },
      "source": [
        "<a href=\"https://colab.research.google.com/github/habibi-bd/Generative-AI/blob/main/chromadb.ipynb\" target=\"_parent\"><img src=\"https://colab.research.google.com/assets/colab-badge.svg\" alt=\"Open In Colab\"/></a>"
      ]
    },
    {
      "cell_type": "code",
      "source": [
        "# pip install beautifulsoup4\n",
        "# !pip install pypdf\n",
        "# !pip install sentence-transformers faiss-cpu langchain\n",
        "!pip install chromadb\n"
      ],
      "metadata": {
        "id": "FSPTS3rxufHy",
        "collapsed": true
      },
      "execution_count": null,
      "outputs": []
    },
    {
      "cell_type": "code",
      "execution_count": null,
      "metadata": {
        "collapsed": true,
        "id": "AXDNE5SXmos_"
      },
      "outputs": [],
      "source": [
        "!pip install -r requirements.txt"
      ]
    },
    {
      "cell_type": "code",
      "source": [
        "import re\n",
        "\n",
        "def clean_text(text):\n",
        "\n",
        "    text = re.sub(r'[^\\w\\s]', '', text)\n",
        "    text = re.sub(r'\\d+', '', text)\n",
        "    text = text.lower()\n",
        "    text = re.sub(r'\\s+', ' ', text).strip()\n",
        "    return text\n",
        "\n",
        "\n"
      ],
      "metadata": {
        "id": "lDTOWufuCn3Y"
      },
      "execution_count": null,
      "outputs": []
    },
    {
      "cell_type": "code",
      "source": [
        "web_url=\"https://lilianweng.github.io/posts/2023-06-23-agent/\""
      ],
      "metadata": {
        "id": "eCR6dVKcsb-q"
      },
      "execution_count": null,
      "outputs": []
    },
    {
      "cell_type": "code",
      "source": [
        "from langchain_community.document_loaders import TextLoader, WebBaseLoader\n",
        "from bs4 import BeautifulSoup"
      ],
      "metadata": {
        "id": "JbRtyDX2rBS7"
      },
      "execution_count": null,
      "outputs": []
    },
    {
      "cell_type": "markdown",
      "source": [
        "**TEXT DATA**"
      ],
      "metadata": {
        "id": "mutjBGvPGu_u"
      }
    },
    {
      "cell_type": "code",
      "source": [
        "text_loader= TextLoader(\"/content/speech.txt\")\n",
        "text=text_loader.load()\n",
        "text=text[0].page_content"
      ],
      "metadata": {
        "id": "bv32BYMTtJwN"
      },
      "execution_count": null,
      "outputs": []
    },
    {
      "cell_type": "markdown",
      "source": [
        "**WEB DATA**"
      ],
      "metadata": {
        "id": "VCeDxSk8Gyz_"
      }
    },
    {
      "cell_type": "code",
      "source": [
        "from bs4 import BeautifulSoup, SoupStrainer"
      ],
      "metadata": {
        "id": "74TH2f6avGd5"
      },
      "execution_count": null,
      "outputs": []
    },
    {
      "cell_type": "code",
      "source": [
        "web_loader = WebBaseLoader(\n",
        "    web_path=web_url,\n",
        "    bs_kwargs=dict(parse_only=SoupStrainer(class_=(\"post-title\", \"post-content\", \"post-header\")))\n",
        ")\n",
        "\n",
        "web_data = web_loader.load()\n"
      ],
      "metadata": {
        "collapsed": true,
        "id": "N56S6oCitnz_"
      },
      "execution_count": null,
      "outputs": []
    },
    {
      "cell_type": "markdown",
      "source": [
        "# PDF DATA"
      ],
      "metadata": {
        "id": "kgMq0mP9G1JR"
      }
    },
    {
      "cell_type": "code",
      "source": [
        "from langchain_community.document_loaders import PyPDFLoader\n",
        "\n",
        "pdf_loader=PyPDFLoader('/content/Hands On Machine Learning with Scikit Learn and TensorFlow.pdf')\n",
        "pdf_data=pdf_loader.load()\n"
      ],
      "metadata": {
        "collapsed": true,
        "id": "gEYzgNKav9WR"
      },
      "execution_count": null,
      "outputs": []
    },
    {
      "cell_type": "markdown",
      "source": [
        "**SPLITING INTO CHUNK**"
      ],
      "metadata": {
        "id": "KzxR4xqkG4Dj"
      }
    },
    {
      "cell_type": "code",
      "source": [
        "from langchain.text_splitter import RecursiveCharacterTextSplitter\n",
        "text_splitter=RecursiveCharacterTextSplitter(chunk_size=1000, chunk_overlap=200)"
      ],
      "metadata": {
        "id": "aEWWpxIdrBx7"
      },
      "execution_count": null,
      "outputs": []
    },
    {
      "cell_type": "code",
      "source": [
        "documents = text_splitter.split_documents(pdf_data)"
      ],
      "metadata": {
        "collapsed": true,
        "id": "SmBg_N76FStO"
      },
      "execution_count": null,
      "outputs": []
    },
    {
      "cell_type": "code",
      "source": [
        "# len(documents)"
      ],
      "metadata": {
        "collapsed": true,
        "id": "5aZ-3H1lFs4e"
      },
      "execution_count": null,
      "outputs": []
    },
    {
      "cell_type": "code",
      "source": [
        "for i ,doc in enumerate(documents[:5]):\n",
        "  print(f\"Document {i+1} has {len(doc.page_content)} characters\")\n",
        "for i, doc in enumerate(documents[:5]):\n",
        "  print(f\"\\n Chunk {i+1}\\n\")\n",
        "  print(doc.page_content)"
      ],
      "metadata": {
        "collapsed": true,
        "id": "yyJ4_hxrxioe"
      },
      "execution_count": null,
      "outputs": []
    },
    {
      "cell_type": "code",
      "source": [
        "from langchain.vectorstores import FAISS\n",
        "import faiss\n",
        "from sentence_transformers import SentenceTransformer\n"
      ],
      "metadata": {
        "id": "oCQIDNqhyQ-6"
      },
      "execution_count": null,
      "outputs": []
    },
    {
      "cell_type": "markdown",
      "source": [
        "**LOAD MODEL**"
      ],
      "metadata": {
        "id": "Uha6dvADHeOy"
      }
    },
    {
      "cell_type": "code",
      "source": [
        "model = SentenceTransformer('all-mpnet-base-v2')\n"
      ],
      "metadata": {
        "collapsed": true,
        "id": "D9Aeq_0cyT4D"
      },
      "execution_count": null,
      "outputs": []
    },
    {
      "cell_type": "code",
      "source": [
        "pdf_loader=PyPDFLoader('/content/Attention all you need 1706.03762v7.pdf')\n",
        "pdf_data=pdf_loader.load()\n",
        "\n",
        "text_splitter=RecursiveCharacterTextSplitter(chunk_size=1000, chunk_overlap=200)\n",
        "\n",
        "documents = text_splitter.split_documents(pdf_data)\n",
        "\n",
        "\n",
        "texts=[doc.page_content for doc in documents]\n",
        "embedding=model.encode(texts,show_progress_bar=True)"
      ],
      "metadata": {
        "id": "olInIO7VylxX"
      },
      "execution_count": null,
      "outputs": []
    },
    {
      "cell_type": "code",
      "source": [
        "index= faiss.IndexFlatL2(embedding.shape[1])\n",
        "faiss.write_index(index, \"faiss_index.index\")"
      ],
      "metadata": {
        "id": "Z926GWVMzDcQ"
      },
      "execution_count": null,
      "outputs": []
    },
    {
      "cell_type": "code",
      "source": [
        "query=\"FAISS\"\n",
        "query_embedding=model.encode([query])\n",
        "\n",
        "# print(query_embedding)"
      ],
      "metadata": {
        "collapsed": true,
        "id": "45xIvkppzoj3"
      },
      "execution_count": null,
      "outputs": []
    },
    {
      "cell_type": "code",
      "source": [
        "\n",
        "D,I=index.search(query_embedding, k=5)\n"
      ],
      "metadata": {
        "id": "XIegyoSMzw-c"
      },
      "execution_count": null,
      "outputs": []
    },
    {
      "cell_type": "code",
      "source": [
        "for idx in I[0]:\n",
        "  print(f\"Mathced Documents {texts[idx]}\")"
      ],
      "metadata": {
        "collapsed": true,
        "id": "hAU1tl6Jz_DU"
      },
      "execution_count": null,
      "outputs": []
    },
    {
      "cell_type": "code",
      "source": [
        "query = \"What is attention\"\n",
        "query_embedding = model.encode([web_data[0].page_content])"
      ],
      "metadata": {
        "id": "H0fmMlpr3uME"
      },
      "execution_count": null,
      "outputs": []
    },
    {
      "cell_type": "code",
      "source": [
        "D,I=index.search(query_embedding, k=2)\n",
        "# for x in I[0]:\n",
        "#   print(f\"Matched Documents {texts[x]}\")\n",
        "I[0]"
      ],
      "metadata": {
        "id": "bMsQKetu3vEE"
      },
      "execution_count": null,
      "outputs": []
    },
    {
      "cell_type": "code",
      "source": [
        "model = SentenceTransformer('all-MiniLM-L6-v2')\n"
      ],
      "metadata": {
        "id": "jz123lnmL0wB"
      },
      "execution_count": null,
      "outputs": []
    },
    {
      "cell_type": "code",
      "source": [
        "pdf_loader=PyPDFLoader('/content/Attention all you need 1706.03762v7.pdf')\n",
        "\n",
        "pdf_data=pdf_loader.load()\n",
        "\n",
        "text_splitter=RecursiveCharacterTextSplitter(chunk_size=1000, chunk_overlap=200)\n",
        "\n",
        "documents = text_splitter.split_documents(pdf_data)\n",
        "texts= [doc.page_content for doc in documents]\n",
        "# max_length=512\n",
        "\n",
        "# filtered_text=[text[:max_length] for text in texts]\n",
        "embeddings=model.encode(texts, show_progress_bar=True)"
      ],
      "metadata": {
        "id": "_5PF3-QS_U_w"
      },
      "execution_count": null,
      "outputs": []
    },
    {
      "cell_type": "code",
      "source": [
        "query = \"dlfajdl\"\n",
        "query_embedding=model.encode([query])\n",
        "D,I=index.search(query_embedding, k=5)"
      ],
      "metadata": {
        "id": "RFFho-O9PTR_"
      },
      "execution_count": null,
      "outputs": []
    },
    {
      "cell_type": "code",
      "source": [
        "for x in I[0]:\n",
        "  print(texts[x])"
      ],
      "metadata": {
        "collapsed": true,
        "id": "_emP9hBsQMpJ"
      },
      "execution_count": null,
      "outputs": []
    },
    {
      "cell_type": "markdown",
      "source": [
        "**CHROMADB\n",
        "CHROMADB\n",
        "CHROMADB\n",
        "CHROMADB\n",
        "CHROMADB\n",
        "**"
      ],
      "metadata": {
        "id": "WlAPW6auTD3q"
      }
    },
    {
      "cell_type": "code",
      "source": [
        "\"\"\"\n",
        "🔍 What Does ChromaDB Do?\n",
        "\n",
        "ChromaDB is a vector database that helps you store, index, and retrieve high-dimensional vectors (embeddings) efficiently. It's particularly useful when you're dealing with tasks like semantic search, recommendation systems, question answering, and similarity-based retrieval.\n",
        "\n",
        "🚀 Why ChromaDB?\n",
        "✅ Efficient Storage: Keeps embeddings (vectors) in a structured way with metadata.\n",
        "\n",
        "✅ Fast Retrieval: Uses indexing techniques to perform quick similarity searches.\n",
        "\n",
        "✅ Scalability: Handles large datasets and complex queries effectively.\n",
        "\n",
        "✅ Metadata Support: You can store text chunks with additional metadata for better filtering.\n",
        "\n",
        "📌 What It Actually Does\n",
        "Embeddings Storage\n",
        "\n",
        "When you generate embeddings from your text chunks using a model like SentenceTransformer, ChromaDB stores these embeddings along with their text content and metadata.\n",
        "\n",
        "Think of it as saving text in a special way where meaning is captured by a vector (a list of numbers).\n",
        "\n",
        "Indexing\n",
        "\n",
        "ChromaDB builds efficient indices for those embeddings. This helps in making search operations much faster by organizing the vectors in a way that allows quick comparisons.\n",
        "\n",
        "It usually uses techniques like FAISS (Facebook AI Similarity Search) under the hood for fast retrieval.\n",
        "\n",
        "Retrieval\n",
        "\n",
        "When you provide a query, it is converted into an embedding by your model.\n",
        "\n",
        "ChromaDB compares this query embedding against all stored embeddings and returns the most similar ones (based on cosine similarity or Euclidean distance).\n",
        "\n",
        "This is what allows you to ask questions like \"What is attention?\" and find relevant text chunks.\n",
        "\n",
        "Metadata Handling (Bonus)\n",
        "\n",
        "You can store extra information about your texts (e.g., page numbers, sections, tags) and filter results based on those.\n",
        "\n",
        "\n",
        "\"\"\""
      ],
      "metadata": {
        "id": "DI-PQxNmYA8X"
      },
      "execution_count": null,
      "outputs": []
    },
    {
      "cell_type": "code",
      "source": [
        "from langchain.vectorstores import Chroma\n",
        "from sentence_transformers import SentenceTransformer\n",
        "from langchain.embeddings import HuggingFaceEmbeddings\n",
        "from langchain.document_loaders import PyPDFLoader\n",
        "from langchain.text_splitter import RecursiveCharacterTextSplitter\n",
        "import chromadb"
      ],
      "metadata": {
        "id": "iHSZM62XQOqy"
      },
      "execution_count": null,
      "outputs": []
    },
    {
      "cell_type": "code",
      "source": [
        "model = SentenceTransformer('all-MiniLM-L6-v2')"
      ],
      "metadata": {
        "id": "x9b3G_iaTIGz"
      },
      "execution_count": null,
      "outputs": []
    },
    {
      "cell_type": "code",
      "source": [
        "pdf_loader = PyPDFLoader('/content/Attention all you need 1706.03762v7.pdf')\n",
        "# pdf_loader= TextLoader(\"/content/nlp.txt\")\n",
        "\n",
        "pdf_data = pdf_loader.load()"
      ],
      "metadata": {
        "id": "oOf5831uTJS7"
      },
      "execution_count": null,
      "outputs": []
    },
    {
      "cell_type": "code",
      "source": [
        "text_spliter=RecursiveCharacterTextSplitter(chunk_size=1000,chunk_overlap=200)\n",
        "documents=text_spliter.split_documents(pdf_data)\n",
        "texts=[doc.page_content for doc in documents if doc.page_content.strip()!=\"\"]\n",
        "embeding=model.encode(texts, show_progress_bar=True)"
      ],
      "metadata": {
        "id": "OkGyKKkpTPH_"
      },
      "execution_count": null,
      "outputs": []
    },
    {
      "cell_type": "code",
      "source": [
        "client=chromadb.Client()\n",
        "client.delete_collection(\"my_nlpd\")\n"
      ],
      "metadata": {
        "id": "IiiUN0M6YVHj"
      },
      "execution_count": null,
      "outputs": []
    },
    {
      "cell_type": "code",
      "source": [
        "client=chromadb.Client()\n",
        "collection=client.create_collection(\"my_nlpd\")\n",
        "collection.add(\n",
        "    documents=texts,\n",
        "    embeddings=embeding,\n",
        "    ids=[str(i) for i in range(len(texts))]\n",
        ")"
      ],
      "metadata": {
        "collapsed": true,
        "id": "RoeAGZ-mTguh"
      },
      "execution_count": null,
      "outputs": []
    },
    {
      "cell_type": "code",
      "source": [
        "query=\"why embedding require\"\n",
        "query_embedding=model.encode([query])\n",
        "result=collection.query(query_embeddings=query_embedding, n_results=5)\n"
      ],
      "metadata": {
        "id": "VPvVMuaMTmu0"
      },
      "execution_count": null,
      "outputs": []
    },
    {
      "cell_type": "code",
      "source": [
        "for res in result[\"documents\"]:\n",
        "  print(res)"
      ],
      "metadata": {
        "id": "8VvKuXjyT89q"
      },
      "execution_count": null,
      "outputs": []
    },
    {
      "cell_type": "code",
      "source": [],
      "metadata": {
        "id": "6rswjNKPWZTI"
      },
      "execution_count": null,
      "outputs": []
    }
  ]
}